{
 "cells": [
  {
   "cell_type": "code",
   "execution_count": null,
   "id": "38d3483b-a3f5-4a2b-bc20-95eb9180933e",
   "metadata": {},
   "outputs": [],
   "source": [
    "Markdown"
   ]
  },
  {
   "cell_type": "code",
   "execution_count": 9,
   "id": "f67ca6b0-fc88-4e3c-8f91-10720a9a86f7",
   "metadata": {},
   "outputs": [
    {
     "data": {
      "text/plain": [
       "'My first Markdown cell in Jupyter'"
      ]
     },
     "execution_count": 9,
     "metadata": {},
     "output_type": "execute_result"
    }
   ],
   "source": [
    "(\"My first Markdown cell in Jupyter\")"
   ]
  },
  {
   "cell_type": "code",
   "execution_count": 7,
   "id": "9e1a6fda-bbc6-467a-b156-dbe9bb227dee",
   "metadata": {},
   "outputs": [
    {
     "name": "stdout",
     "output_type": "stream",
     "text": [
      "Hello World!\n"
     ]
    }
   ],
   "source": [
    "print(\"Hello World!\")"
   ]
  },
  {
   "cell_type": "code",
   "execution_count": null,
   "id": "2e70a083-5c8b-4137-81e1-d7a66cfce339",
   "metadata": {},
   "outputs": [],
   "source": []
  }
 ],
 "metadata": {
  "kernelspec": {
   "display_name": "anaconda-panel-2023.05-py310",
   "language": "python",
   "name": "conda-env-anaconda-panel-2023.05-py310-py"
  },
  "language_info": {
   "codemirror_mode": {
    "name": "ipython",
    "version": 3
   },
   "file_extension": ".py",
   "mimetype": "text/x-python",
   "name": "python",
   "nbconvert_exporter": "python",
   "pygments_lexer": "ipython3",
   "version": "3.11.5"
  }
 },
 "nbformat": 4,
 "nbformat_minor": 5
}
